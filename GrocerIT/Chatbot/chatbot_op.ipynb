{
 "cells": [
  {
   "cell_type": "code",
   "execution_count": 1,
   "metadata": {},
   "outputs": [
    {
     "name": "stderr",
     "output_type": "stream",
     "text": [
      "C:\\Users\\Leon\\AppData\\Local\\Temp\\ipykernel_12860\\2563513646.py:1: DeprecationWarning: \n",
      "Pyarrow will become a required dependency of pandas in the next major release of pandas (pandas 3.0),\n",
      "(to allow more performant data types, such as the Arrow string type, and better interoperability with other libraries)\n",
      "but was not found to be installed on your system.\n",
      "If this would cause problems for you,\n",
      "please provide us feedback at https://github.com/pandas-dev/pandas/issues/54466\n",
      "        \n",
      "  import pandas as pd\n"
     ]
    }
   ],
   "source": [
    "import pandas as pd\n",
    "from sklearn.feature_extraction.text import CountVectorizer\n",
    "from sklearn.metrics.pairwise import cosine_similarity"
   ]
  },
  {
   "cell_type": "code",
   "execution_count": 12,
   "metadata": {},
   "outputs": [],
   "source": [
    "import re"
   ]
  },
  {
   "cell_type": "code",
   "execution_count": 39,
   "metadata": {},
   "outputs": [],
   "source": [
    "def clean_data(x):\n",
    "    return re.sub('[\\W_]+', ' ', str.lower(x).replace(\"'s\", \" is\")).strip()"
   ]
  },
  {
   "cell_type": "code",
   "execution_count": 3,
   "metadata": {},
   "outputs": [],
   "source": [
    "test = [\n",
    "  {\n",
    "    \"question\": \"What spices do you offer?\",\n",
    "    \"response\": \"We offer a wide range of spices including cinnamon, paprika, turmeric, cumin, and many more! You can explore our full catalog on our website.\"\n",
    "  },\n",
    "  {\n",
    "    \"question\": \"Can you recommend some spices for a chicken dish?\",\n",
    "    \"response\": \"Absolutely! For chicken dishes, we recommend trying a blend of paprika, garlic powder, and thyme for a flavorful seasoning. It adds a delicious depth of flavor to your chicken.\"\n",
    "  },\n",
    "  {\n",
    "    \"question\": \"Do you have any organic spices available?\",\n",
    "    \"response\": \"Yes, we do offer organic options for many of our spices. Look for the \\\"organic\\\" label on the product page to identify them.\"\n",
    "  },\n",
    "  {\n",
    "    \"question\": \"How do I store spices properly to maintain their freshness?\",\n",
    "    \"response\": \"To maintain the freshness of your spices, store them in a cool, dark place away from heat and moisture. Airtight containers also help to preserve their flavor and aroma.\"\n",
    "  },\n",
    "  {\n",
    "    \"question\": \"What's the difference between ground and whole spices?\",\n",
    "    \"response\": \"Ground spices are already powdered, while whole spices are in their original form, such as whole peppercorns or cinnamon sticks. Whole spices tend to have a longer shelf life and retain their flavor better when freshly ground.\"\n",
    "  },\n",
    "  {\n",
    "    \"question\": \"Are your spices sourced ethically?\",\n",
    "    \"response\": \"Yes, we take great care in sourcing our spices ethically, ensuring fair trade practices and sustainable farming methods wherever possible.\"\n",
    "  },\n",
    "  {\n",
    "    \"question\": \"I have allergies. Do your spices contain any common allergens?\",\n",
    "    \"response\": \"Our spices are typically free from common allergens like gluten, nuts, and soy. However, it's always best to check the product labels for specific information regarding allergens.\"\n",
    "  },\n",
    "  {\n",
    "    \"question\": \"How can I use saffron in cooking?\",\n",
    "    \"response\": \"Saffron is a highly prized spice known for its unique flavor and vibrant color. You can use it to add a subtle yet distinctive taste to rice dishes, sauces, soups, and desserts. Remember to steep saffron threads in hot liquid before adding them to your dish to extract their full flavor.\"\n",
    "  },\n",
    "  {\n",
    "    \"question\": \"What's the best spice blend for making curry?\",\n",
    "    \"response\": \"For a classic curry flavor, we recommend using a blend of cumin, coriander, turmeric, ginger, and chili powder. Adjust the quantities according to your taste preferences for a perfectly balanced curry.\"\n",
    "  },\n",
    "  {\n",
    "    \"question\": \"Do you have any recipes featuring your spices?\",\n",
    "    \"response\": \"Yes, we have a collection of delicious recipes on our website that showcase the versatility of our spices. Feel free to explore and get inspired for your next culinary adventure!\"\n",
    "  },\n",
    "  {\n",
    "    \"question\": \"Can you provide recommendations for spices to use in vegetarian cooking?\",\n",
    "    \"response\": \"Absolutely! Spices like smoked paprika, cumin, coriander, and garam masala can add depth and flavor to vegetarian dishes like lentil soups, roasted vegetables, and tofu stir-fries.\"\n",
    "  },\n",
    "  {\n",
    "    \"question\": \"What spices do you suggest for enhancing the flavor of grilled meats?\",\n",
    "    \"response\": \"For grilled meats, we recommend using a combination of spices such as garlic powder, onion powder, smoked paprika, black pepper, and a touch of cayenne for some heat. It creates a delicious crust and enhances the smoky flavor of grilled meats.\"\n",
    "  },\n",
    "  {\n",
    "    \"question\": \"Are your spices suitable for international cuisines?\",\n",
    "    \"response\": \"Yes, our spices are versatile and suitable for various international cuisines. Whether you're cooking Indian, Mexican, Thai, or Italian dishes, our spices can add authentic flavor to your recipes.\"\n",
    "  },\n",
    "  {\n",
    "    \"question\": \"Do you offer gift sets or spice kits?\",\n",
    "    \"response\": \"Yes, we offer curated spice gift sets and kits that make excellent gifts for culinary enthusiasts or anyone who loves to cook. Explore our selection on our website.\"\n",
    "  },\n",
    "  {\n",
    "    \"question\": \"What spices can I use to make a homemade curry paste?\",\n",
    "    \"response\": \"To make a homemade curry paste, you can use a combination of fresh ingredients like ginger, garlic, chili peppers, along with spices such as coriander, cumin, turmeric, and garam masala. Blend them together to create a flavorful paste.\"\n",
    "  },\n",
    "  {\n",
    "    \"question\": \"How can I make my own pumpkin spice blend at home?\",\n",
    "    \"response\": \"Making your own pumpkin spice blend is easy! Combine ground cinnamon, nutmeg, ginger, cloves, and a touch of allspice. Adjust the proportions according to your taste preferences and use it to spice up your favorite pumpkin dishes.\"\n",
    "  },\n",
    "  {\n",
    "    \"question\": \"Are your spices non-GMO?\",\n",
    "    \"response\": \"Yes, we are committed to offering non-GMO spices. We prioritize sourcing high-quality ingredients that are free from genetically modified organisms.\"\n",
    "  },\n",
    "  {\n",
    "    \"question\": \"Can you provide tips for using spices in baking?\",\n",
    "    \"response\": \"When using spices in baking, remember to sift them with your dry ingredients to ensure even distribution. Also, consider adding spices like cinnamon, nutmeg, and cardamom to enhance the flavor of cakes, cookies, and bread.\"\n",
    "  },\n",
    "  {\n",
    "    \"question\": \"What's the best way to grind whole spices at home?\",\n",
    "    \"response\": \"For grinding whole spices at home, you can use a mortar and pestle, spice grinder, or a coffee grinder dedicated to spices. Just ensure that the grinder is clean and dry before use to prevent any flavor contamination.\"\n",
    "  },\n",
    "  {\n",
    "    \"question\": \"Do you offer bulk purchasing options for spices?\",\n",
    "    \"response\": \"Yes, we offer bulk purchasing options for many of our spices. Whether you're a home cook or a restaurant owner, you can save money by buying in larger quantities. Contact us for more information on bulk pricing.\"\n",
    "  },\n",
    "  {\n",
    "    \"question\": \"Are your spices certified organic?\",\n",
    "    \"response\": \"Yes, we offer a range of certified organic spices. Look for the organic certification label on the product packaging for verification.\"\n",
    "  },\n",
    "  {\n",
    "    \"question\": \"Can you recommend spices for making homemade chai tea?\",\n",
    "    \"response\": \"Certainly! For homemade chai tea, we recommend using a blend of black tea, cinnamon sticks, cardamom pods, cloves, ginger, and a touch of black pepper. Simmer the spices in milk and water, then strain and sweeten to taste for a delicious chai tea experience.\"\n",
    "  },\n",
    "  {\n",
    "    \"question\": \"What spices pair well with seafood dishes?\",\n",
    "    \"response\": \"Spices like lemon pepper, dill, paprika, and Old Bay seasoning complement seafood dishes beautifully. Experiment with different spice combinations to enhance the natural flavors of fish and shellfish.\"\n",
    "  },\n",
    "  {\n",
    "    \"question\": \"How can I use spices to create a flavorful rub for grilling?\",\n",
    "    \"response\": \"To create a flavorful rub for grilling, combine spices like smoked paprika, brown sugar, garlic powder, onion powder, and cumin\"\n",
    "  },\n",
    "  {\n",
    "      \"question\": \"Are your spices gluten-free?\",\n",
    "      \"response\": \"Yes, the majority of our spices are gluten-free. However, it's always a good idea to check the product labels for any specific information regarding gluten content or potential cross-contamination.\"\n",
    "  }\n",
    "]\n"
   ]
  },
  {
   "cell_type": "code",
   "execution_count": 5,
   "metadata": {},
   "outputs": [],
   "source": [
    "df = pd.DataFrame(test)"
   ]
  },
  {
   "cell_type": "code",
   "execution_count": 44,
   "metadata": {},
   "outputs": [],
   "source": [
    "data = pd.read_csv(\"chats.csv\")"
   ]
  },
  {
   "cell_type": "code",
   "execution_count": 45,
   "metadata": {},
   "outputs": [
    {
     "data": {
      "text/html": [
       "<div>\n",
       "<style scoped>\n",
       "    .dataframe tbody tr th:only-of-type {\n",
       "        vertical-align: middle;\n",
       "    }\n",
       "\n",
       "    .dataframe tbody tr th {\n",
       "        vertical-align: top;\n",
       "    }\n",
       "\n",
       "    .dataframe thead th {\n",
       "        text-align: right;\n",
       "    }\n",
       "</style>\n",
       "<table border=\"1\" class=\"dataframe\">\n",
       "  <thead>\n",
       "    <tr style=\"text-align: right;\">\n",
       "      <th></th>\n",
       "      <th>Unnamed: 0</th>\n",
       "      <th>question</th>\n",
       "      <th>response</th>\n",
       "    </tr>\n",
       "  </thead>\n",
       "  <tbody>\n",
       "    <tr>\n",
       "      <th>0</th>\n",
       "      <td>0</td>\n",
       "      <td>What spices do you offer?</td>\n",
       "      <td>We offer a wide range of spices including cinn...</td>\n",
       "    </tr>\n",
       "    <tr>\n",
       "      <th>1</th>\n",
       "      <td>1</td>\n",
       "      <td>Can you recommend some spices for a chicken dish?</td>\n",
       "      <td>Absolutely! For chicken dishes, we recommend t...</td>\n",
       "    </tr>\n",
       "    <tr>\n",
       "      <th>2</th>\n",
       "      <td>2</td>\n",
       "      <td>Do you have any organic spices available?</td>\n",
       "      <td>Yes, we do offer organic options for many of o...</td>\n",
       "    </tr>\n",
       "    <tr>\n",
       "      <th>3</th>\n",
       "      <td>3</td>\n",
       "      <td>How do I store spices properly to maintain the...</td>\n",
       "      <td>To maintain the freshness of your spices, stor...</td>\n",
       "    </tr>\n",
       "    <tr>\n",
       "      <th>4</th>\n",
       "      <td>4</td>\n",
       "      <td>What's the difference between ground and whole...</td>\n",
       "      <td>Ground spices are already powdered, while whol...</td>\n",
       "    </tr>\n",
       "  </tbody>\n",
       "</table>\n",
       "</div>"
      ],
      "text/plain": [
       "   Unnamed: 0                                           question  \\\n",
       "0           0                          What spices do you offer?   \n",
       "1           1  Can you recommend some spices for a chicken dish?   \n",
       "2           2          Do you have any organic spices available?   \n",
       "3           3  How do I store spices properly to maintain the...   \n",
       "4           4  What's the difference between ground and whole...   \n",
       "\n",
       "                                            response  \n",
       "0  We offer a wide range of spices including cinn...  \n",
       "1  Absolutely! For chicken dishes, we recommend t...  \n",
       "2  Yes, we do offer organic options for many of o...  \n",
       "3  To maintain the freshness of your spices, stor...  \n",
       "4  Ground spices are already powdered, while whol...  "
      ]
     },
     "execution_count": 45,
     "metadata": {},
     "output_type": "execute_result"
    }
   ],
   "source": [
    "data.head()"
   ]
  },
  {
   "cell_type": "code",
   "execution_count": 8,
   "metadata": {},
   "outputs": [],
   "source": [
    "count = CountVectorizer(stop_words=\"english\")"
   ]
  },
  {
   "cell_type": "code",
   "execution_count": 40,
   "metadata": {},
   "outputs": [],
   "source": [
    "questions = df['question']\n",
    "cleaned_questions = questions.apply(clean_data)"
   ]
  },
  {
   "cell_type": "code",
   "execution_count": 41,
   "metadata": {},
   "outputs": [
    {
     "data": {
      "text/plain": [
       "0                              what spices do you offer\n",
       "1      can you recommend some spices for a chicken dish\n",
       "2              do you have any organic spices available\n",
       "3     how do i store spices properly to maintain the...\n",
       "4     what is the difference between ground and whol...\n",
       "5                     are your spices sourced ethically\n",
       "6     i have allergies do your spices contain any co...\n",
       "7                      how can i use saffron in cooking\n",
       "8         what is the best spice blend for making curry\n",
       "9         do you have any recipes featuring your spices\n",
       "10    can you provide recommendations for spices to ...\n",
       "11    what spices do you suggest for enhancing the f...\n",
       "12    are your spices suitable for international cui...\n",
       "13                 do you offer gift sets or spice kits\n",
       "14    what spices can i use to make a homemade curry...\n",
       "15    how can i make my own pumpkin spice blend at home\n",
       "16                              are your spices non gmo\n",
       "17      can you provide tips for using spices in baking\n",
       "18    what is the best way to grind whole spices at ...\n",
       "19      do you offer bulk purchasing options for spices\n",
       "20                    are your spices certified organic\n",
       "21    can you recommend spices for making homemade c...\n",
       "22            what spices pair well with seafood dishes\n",
       "23    how can i use spices to create a flavorful rub...\n",
       "24                          are your spices gluten free\n",
       "Name: question, dtype: object"
      ]
     },
     "execution_count": 41,
     "metadata": {},
     "output_type": "execute_result"
    }
   ],
   "source": [
    "cleaned_questions"
   ]
  },
  {
   "cell_type": "code",
   "execution_count": 24,
   "metadata": {},
   "outputs": [],
   "source": [
    "cleaned_questions.loc[len(cleaned_questions)] = \"can you give me some recommendations\""
   ]
  },
  {
   "cell_type": "code",
   "execution_count": 25,
   "metadata": {},
   "outputs": [
    {
     "data": {
      "text/plain": [
       "26"
      ]
     },
     "execution_count": 25,
     "metadata": {},
     "output_type": "execute_result"
    }
   ],
   "source": [
    "len(cleaned_questions)"
   ]
  },
  {
   "cell_type": "code",
   "execution_count": 26,
   "metadata": {},
   "outputs": [],
   "source": [
    "count_matrix = count.fit_transform(cleaned_questions)"
   ]
  },
  {
   "cell_type": "code",
   "execution_count": 27,
   "metadata": {},
   "outputs": [],
   "source": [
    "similar = cosine_similarity(count_matrix[-1], count_matrix[:-1])"
   ]
  },
  {
   "cell_type": "code",
   "execution_count": 28,
   "metadata": {},
   "outputs": [],
   "source": [
    "flat_similar = similar.flatten()"
   ]
  },
  {
   "cell_type": "code",
   "execution_count": 30,
   "metadata": {},
   "outputs": [],
   "source": [
    "testing = list(enumerate(similar.flatten()))"
   ]
  },
  {
   "cell_type": "code",
   "execution_count": 32,
   "metadata": {},
   "outputs": [],
   "source": [
    "sim_scores_sort = sorted(testing, key=lambda x: x[1], reverse=True)"
   ]
  },
  {
   "cell_type": "code",
   "execution_count": 34,
   "metadata": {},
   "outputs": [],
   "source": [
    "top_chat = sim_scores_sort[0]"
   ]
  },
  {
   "cell_type": "code",
   "execution_count": 35,
   "metadata": {},
   "outputs": [
    {
     "data": {
      "text/plain": [
       "(10, 0.4082482904638631)"
      ]
     },
     "execution_count": 35,
     "metadata": {},
     "output_type": "execute_result"
    }
   ],
   "source": [
    "top_chat"
   ]
  },
  {
   "cell_type": "code",
   "execution_count": 36,
   "metadata": {},
   "outputs": [
    {
     "data": {
      "text/plain": [
       "10"
      ]
     },
     "execution_count": 36,
     "metadata": {},
     "output_type": "execute_result"
    }
   ],
   "source": [
    "top_chat[0]"
   ]
  },
  {
   "cell_type": "code",
   "execution_count": 37,
   "metadata": {},
   "outputs": [],
   "source": [
    "response = df['response'][10]"
   ]
  },
  {
   "cell_type": "code",
   "execution_count": 38,
   "metadata": {},
   "outputs": [
    {
     "data": {
      "text/plain": [
       "'Absolutely! Spices like smoked paprika, cumin, coriander, and garam masala can add depth and flavor to vegetarian dishes like lentil soups, roasted vegetables, and tofu stir-fries.'"
      ]
     },
     "execution_count": 38,
     "metadata": {},
     "output_type": "execute_result"
    }
   ],
   "source": [
    "response"
   ]
  },
  {
   "cell_type": "code",
   "execution_count": null,
   "metadata": {},
   "outputs": [],
   "source": []
  }
 ],
 "metadata": {
  "kernelspec": {
   "display_name": "Python 3",
   "language": "python",
   "name": "python3"
  },
  "language_info": {
   "codemirror_mode": {
    "name": "ipython",
    "version": 3
   },
   "file_extension": ".py",
   "mimetype": "text/x-python",
   "name": "python",
   "nbconvert_exporter": "python",
   "pygments_lexer": "ipython3",
   "version": "3.11.7"
  }
 },
 "nbformat": 4,
 "nbformat_minor": 2
}
